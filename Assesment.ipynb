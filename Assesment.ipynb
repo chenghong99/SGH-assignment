{
 "cells": [
  {
   "cell_type": "code",
   "execution_count": 6,
   "metadata": {},
   "outputs": [],
   "source": [
    "import pandas as pd"
   ]
  },
  {
   "cell_type": "markdown",
   "metadata": {},
   "source": [
    "# Read data"
   ]
  },
  {
   "cell_type": "code",
   "execution_count": null,
   "metadata": {},
   "outputs": [],
   "source": [
    "# Python program to convert .tsv file to .csv file\n",
    "# importing re library\n",
    "import re\n",
    " \n",
    "# reading given tsv file\n",
    "with open(\"nhgh.tsv\", 'r') as myfile:  \n",
    "  with open(\"nhgh.csv\", 'w') as csv_file:\n",
    "    for line in myfile:\n",
    "       \n",
    "      # Replace every tab with comma\n",
    "      fileContent = re.sub(\",\", \"x\", line)\n",
    "      fileContent = re.sub(\"\\t\", \",\", fileContent)\n",
    "      \n",
    "       \n",
    "      # Writing into csv file\n",
    "      csv_file.write(fileContent)\n",
    "\n",
    "# output\n",
    "print(\"Successfully made csv file\")"
   ]
  },
  {
   "cell_type": "code",
   "execution_count": 7,
   "metadata": {},
   "outputs": [],
   "source": [
    "data = pd.read_csv(\"C:/Users/User/Desktop/Data/nhgh.csv\")\n",
    "## After dropping rows with na there are more than enough observations\n",
    "data = data.dropna()"
   ]
  },
  {
   "cell_type": "markdown",
   "metadata": {},
   "source": [
    "# Upload data to SQLite3 database"
   ]
  },
  {
   "cell_type": "code",
   "execution_count": 8,
   "metadata": {},
   "outputs": [],
   "source": [
    "import sqlite3"
   ]
  },
  {
   "cell_type": "markdown",
   "metadata": {},
   "source": []
  },
  {
   "cell_type": "code",
   "execution_count": 9,
   "metadata": {},
   "outputs": [
    {
     "data": {
      "text/plain": [
       "5343"
      ]
     },
     "execution_count": 9,
     "metadata": {},
     "output_type": "execute_result"
    }
   ],
   "source": [
    "connection = sqlite3.connect('demo.db')\n",
    "data.to_sql(\"dataset\", connection, if_exists='replace')"
   ]
  }
 ],
 "metadata": {
  "kernelspec": {
   "display_name": "Python 3",
   "language": "python",
   "name": "python3"
  },
  "language_info": {
   "codemirror_mode": {
    "name": "ipython",
    "version": 3
   },
   "file_extension": ".py",
   "mimetype": "text/x-python",
   "name": "python",
   "nbconvert_exporter": "python",
   "pygments_lexer": "ipython3",
   "version": "3.11.7"
  }
 },
 "nbformat": 4,
 "nbformat_minor": 2
}
